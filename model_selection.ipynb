{
 "cells": [
  {
   "cell_type": "code",
   "execution_count": 13,
   "metadata": {},
   "outputs": [],
   "source": [
    "from models.decision_tree import DecisionTreeModel\n",
    "from models.adaBoost import AdaBoostModel\n",
    "from models.xg_boost import XGBoostModel\n",
    "from models.gradient_boosting import GradientBoostingModel\n",
    "from models.random_forest import RandomForestModel\n",
    "from models.cat_boost import CatBoostModel\n",
    "from sklearn.model_selection import train_test_split, cross_val_score\n",
    "from sklearn.metrics import f1_score, roc_auc_score\n",
    "from metrics import cross_validate_with_resampling, Metrics\n",
    "from imblearn.combine import SMOTEENN\n",
    "from imblearn.over_sampling import RandomOverSampler, SMOTE\n",
    "import pandas as pd\n",
    "import numpy as np"
   ]
  },
  {
   "cell_type": "markdown",
   "metadata": {},
   "source": [
    "## Reading Data and Setting up Grid search parameters"
   ]
  },
  {
   "cell_type": "code",
   "execution_count": 14,
   "metadata": {},
   "outputs": [],
   "source": [
    "data = pd.read_csv('data/Telco-Customer-Churn-encoded-data-FE-Features-Selected.csv')\n",
    "label = pd.read_csv('data/Telco-Customer-Churn-encoded-label.csv')"
   ]
  },
  {
   "cell_type": "code",
   "execution_count": 15,
   "metadata": {},
   "outputs": [
    {
     "name": "stdout",
     "output_type": "stream",
     "text": [
      "The autoreload extension is already loaded. To reload it, use:\n",
      "  %reload_ext autoreload\n"
     ]
    }
   ],
   "source": [
    "%load_ext autoreload\n",
    "%autoreload 2"
   ]
  },
  {
   "cell_type": "code",
   "execution_count": 16,
   "metadata": {},
   "outputs": [
    {
     "data": {
      "text/html": [
       "<div>\n",
       "<style scoped>\n",
       "    .dataframe tbody tr th:only-of-type {\n",
       "        vertical-align: middle;\n",
       "    }\n",
       "\n",
       "    .dataframe tbody tr th {\n",
       "        vertical-align: top;\n",
       "    }\n",
       "\n",
       "    .dataframe thead th {\n",
       "        text-align: right;\n",
       "    }\n",
       "</style>\n",
       "<table border=\"1\" class=\"dataframe\">\n",
       "  <thead>\n",
       "    <tr style=\"text-align: right;\">\n",
       "      <th></th>\n",
       "      <th>Contract_Month-to-month</th>\n",
       "      <th>PaymentMethod_Mailed check</th>\n",
       "      <th>OnlineSecurity_No</th>\n",
       "      <th>Monthly/Total_Charges</th>\n",
       "      <th>TechSupport_No</th>\n",
       "      <th>InternetService_DSL</th>\n",
       "      <th>tenure</th>\n",
       "      <th>InternetService_Fiber optic</th>\n",
       "      <th>PaymentMethod_Electronic check</th>\n",
       "      <th>tenure_group</th>\n",
       "      <th>...</th>\n",
       "      <th>OnlineBackup_No internet service</th>\n",
       "      <th>DeviceProtection_No internet service</th>\n",
       "      <th>PaymentMethod_Credit card (automatic)</th>\n",
       "      <th>Partner_Yes</th>\n",
       "      <th>TechSupport_No internet service</th>\n",
       "      <th>StreamingTV_No internet service</th>\n",
       "      <th>PaymentMethod_Bank transfer (automatic)</th>\n",
       "      <th>TechSupport_Yes</th>\n",
       "      <th>StreamingMovies_No internet service</th>\n",
       "      <th>TotalCharges</th>\n",
       "    </tr>\n",
       "  </thead>\n",
       "  <tbody>\n",
       "    <tr>\n",
       "      <th>0</th>\n",
       "      <td>1</td>\n",
       "      <td>0</td>\n",
       "      <td>1</td>\n",
       "      <td>1.000000</td>\n",
       "      <td>1</td>\n",
       "      <td>1</td>\n",
       "      <td>1</td>\n",
       "      <td>0</td>\n",
       "      <td>1</td>\n",
       "      <td>0</td>\n",
       "      <td>...</td>\n",
       "      <td>0</td>\n",
       "      <td>0</td>\n",
       "      <td>0</td>\n",
       "      <td>1</td>\n",
       "      <td>0</td>\n",
       "      <td>0</td>\n",
       "      <td>0</td>\n",
       "      <td>0</td>\n",
       "      <td>0</td>\n",
       "      <td>29.85</td>\n",
       "    </tr>\n",
       "    <tr>\n",
       "      <th>1</th>\n",
       "      <td>0</td>\n",
       "      <td>1</td>\n",
       "      <td>0</td>\n",
       "      <td>0.030140</td>\n",
       "      <td>1</td>\n",
       "      <td>1</td>\n",
       "      <td>34</td>\n",
       "      <td>0</td>\n",
       "      <td>0</td>\n",
       "      <td>2</td>\n",
       "      <td>...</td>\n",
       "      <td>0</td>\n",
       "      <td>0</td>\n",
       "      <td>0</td>\n",
       "      <td>0</td>\n",
       "      <td>0</td>\n",
       "      <td>0</td>\n",
       "      <td>0</td>\n",
       "      <td>0</td>\n",
       "      <td>0</td>\n",
       "      <td>1889.50</td>\n",
       "    </tr>\n",
       "    <tr>\n",
       "      <th>2</th>\n",
       "      <td>1</td>\n",
       "      <td>1</td>\n",
       "      <td>0</td>\n",
       "      <td>0.497920</td>\n",
       "      <td>1</td>\n",
       "      <td>1</td>\n",
       "      <td>2</td>\n",
       "      <td>0</td>\n",
       "      <td>0</td>\n",
       "      <td>0</td>\n",
       "      <td>...</td>\n",
       "      <td>0</td>\n",
       "      <td>0</td>\n",
       "      <td>0</td>\n",
       "      <td>0</td>\n",
       "      <td>0</td>\n",
       "      <td>0</td>\n",
       "      <td>0</td>\n",
       "      <td>0</td>\n",
       "      <td>0</td>\n",
       "      <td>108.15</td>\n",
       "    </tr>\n",
       "    <tr>\n",
       "      <th>3</th>\n",
       "      <td>0</td>\n",
       "      <td>0</td>\n",
       "      <td>0</td>\n",
       "      <td>0.022980</td>\n",
       "      <td>0</td>\n",
       "      <td>1</td>\n",
       "      <td>45</td>\n",
       "      <td>0</td>\n",
       "      <td>0</td>\n",
       "      <td>3</td>\n",
       "      <td>...</td>\n",
       "      <td>0</td>\n",
       "      <td>0</td>\n",
       "      <td>0</td>\n",
       "      <td>0</td>\n",
       "      <td>0</td>\n",
       "      <td>0</td>\n",
       "      <td>1</td>\n",
       "      <td>1</td>\n",
       "      <td>0</td>\n",
       "      <td>1840.75</td>\n",
       "    </tr>\n",
       "    <tr>\n",
       "      <th>4</th>\n",
       "      <td>1</td>\n",
       "      <td>0</td>\n",
       "      <td>1</td>\n",
       "      <td>0.466205</td>\n",
       "      <td>1</td>\n",
       "      <td>0</td>\n",
       "      <td>2</td>\n",
       "      <td>1</td>\n",
       "      <td>1</td>\n",
       "      <td>0</td>\n",
       "      <td>...</td>\n",
       "      <td>0</td>\n",
       "      <td>0</td>\n",
       "      <td>0</td>\n",
       "      <td>0</td>\n",
       "      <td>0</td>\n",
       "      <td>0</td>\n",
       "      <td>0</td>\n",
       "      <td>0</td>\n",
       "      <td>0</td>\n",
       "      <td>151.65</td>\n",
       "    </tr>\n",
       "  </tbody>\n",
       "</table>\n",
       "<p>5 rows × 30 columns</p>\n",
       "</div>"
      ],
      "text/plain": [
       "   Contract_Month-to-month  PaymentMethod_Mailed check  OnlineSecurity_No  \\\n",
       "0                        1                           0                  1   \n",
       "1                        0                           1                  0   \n",
       "2                        1                           1                  0   \n",
       "3                        0                           0                  0   \n",
       "4                        1                           0                  1   \n",
       "\n",
       "   Monthly/Total_Charges  TechSupport_No  InternetService_DSL  tenure  \\\n",
       "0               1.000000               1                    1       1   \n",
       "1               0.030140               1                    1      34   \n",
       "2               0.497920               1                    1       2   \n",
       "3               0.022980               0                    1      45   \n",
       "4               0.466205               1                    0       2   \n",
       "\n",
       "   InternetService_Fiber optic  PaymentMethod_Electronic check  tenure_group  \\\n",
       "0                            0                               1             0   \n",
       "1                            0                               0             2   \n",
       "2                            0                               0             0   \n",
       "3                            0                               0             3   \n",
       "4                            1                               1             0   \n",
       "\n",
       "   ...  OnlineBackup_No internet service  \\\n",
       "0  ...                                 0   \n",
       "1  ...                                 0   \n",
       "2  ...                                 0   \n",
       "3  ...                                 0   \n",
       "4  ...                                 0   \n",
       "\n",
       "   DeviceProtection_No internet service  \\\n",
       "0                                     0   \n",
       "1                                     0   \n",
       "2                                     0   \n",
       "3                                     0   \n",
       "4                                     0   \n",
       "\n",
       "   PaymentMethod_Credit card (automatic)  Partner_Yes  \\\n",
       "0                                      0            1   \n",
       "1                                      0            0   \n",
       "2                                      0            0   \n",
       "3                                      0            0   \n",
       "4                                      0            0   \n",
       "\n",
       "   TechSupport_No internet service  StreamingTV_No internet service  \\\n",
       "0                                0                                0   \n",
       "1                                0                                0   \n",
       "2                                0                                0   \n",
       "3                                0                                0   \n",
       "4                                0                                0   \n",
       "\n",
       "   PaymentMethod_Bank transfer (automatic)  TechSupport_Yes  \\\n",
       "0                                        0                0   \n",
       "1                                        0                0   \n",
       "2                                        0                0   \n",
       "3                                        1                1   \n",
       "4                                        0                0   \n",
       "\n",
       "   StreamingMovies_No internet service  TotalCharges  \n",
       "0                                    0         29.85  \n",
       "1                                    0       1889.50  \n",
       "2                                    0        108.15  \n",
       "3                                    0       1840.75  \n",
       "4                                    0        151.65  \n",
       "\n",
       "[5 rows x 30 columns]"
      ]
     },
     "execution_count": 16,
     "metadata": {},
     "output_type": "execute_result"
    }
   ],
   "source": [
    "data.head()"
   ]
  },
  {
   "cell_type": "code",
   "execution_count": 17,
   "metadata": {},
   "outputs": [
    {
     "data": {
      "text/html": [
       "<div>\n",
       "<style scoped>\n",
       "    .dataframe tbody tr th:only-of-type {\n",
       "        vertical-align: middle;\n",
       "    }\n",
       "\n",
       "    .dataframe tbody tr th {\n",
       "        vertical-align: top;\n",
       "    }\n",
       "\n",
       "    .dataframe thead th {\n",
       "        text-align: right;\n",
       "    }\n",
       "</style>\n",
       "<table border=\"1\" class=\"dataframe\">\n",
       "  <thead>\n",
       "    <tr style=\"text-align: right;\">\n",
       "      <th></th>\n",
       "      <th>Churn</th>\n",
       "    </tr>\n",
       "  </thead>\n",
       "  <tbody>\n",
       "    <tr>\n",
       "      <th>0</th>\n",
       "      <td>0</td>\n",
       "    </tr>\n",
       "    <tr>\n",
       "      <th>1</th>\n",
       "      <td>0</td>\n",
       "    </tr>\n",
       "    <tr>\n",
       "      <th>2</th>\n",
       "      <td>1</td>\n",
       "    </tr>\n",
       "    <tr>\n",
       "      <th>3</th>\n",
       "      <td>0</td>\n",
       "    </tr>\n",
       "    <tr>\n",
       "      <th>4</th>\n",
       "      <td>1</td>\n",
       "    </tr>\n",
       "  </tbody>\n",
       "</table>\n",
       "</div>"
      ],
      "text/plain": [
       "   Churn\n",
       "0      0\n",
       "1      0\n",
       "2      1\n",
       "3      0\n",
       "4      1"
      ]
     },
     "execution_count": 17,
     "metadata": {},
     "output_type": "execute_result"
    }
   ],
   "source": [
    "label[:5]"
   ]
  },
  {
   "cell_type": "code",
   "execution_count": 18,
   "metadata": {},
   "outputs": [],
   "source": [
    "X = data.to_numpy()\n",
    "y = label.to_numpy().ravel()"
   ]
  },
  {
   "cell_type": "code",
   "execution_count": 19,
   "metadata": {},
   "outputs": [],
   "source": [
    "X_train, X_test, y_train, y_test = train_test_split(X, y, test_size=0.2, random_state=42)"
   ]
  },
  {
   "cell_type": "markdown",
   "metadata": {},
   "source": [
    "### Decision tree Grid search"
   ]
  },
  {
   "cell_type": "code",
   "execution_count": 23,
   "metadata": {},
   "outputs": [
    {
     "name": "stderr",
     "output_type": "stream",
     "text": [
      "100%|██████████| 200/200 [00:39<00:00,  5.11it/s]"
     ]
    },
    {
     "name": "stdout",
     "output_type": "stream",
     "text": [
      "Model: DecisionTreeModel with grid search\n",
      "Best Parameters: {'criterion': 'gini', 'max_depth': 7, 'min_samples_split': 7, 'min_impurity_decrease': 0.001}\n",
      "Resempling: True\n",
      "Validation Accuracy: 0.7230935114796371\n"
     ]
    },
    {
     "name": "stderr",
     "output_type": "stream",
     "text": [
      "\n"
     ]
    }
   ],
   "source": [
    "DecisionTreeModel_gs = DecisionTreeModel(\"DecisionTreeModel with grid search\")\n",
    "DT_best_params, DT_recempling = DecisionTreeModel_gs.gs_parameter_tune(X, y, max_search=200)\n"
   ]
  },
  {
   "cell_type": "code",
   "execution_count": 26,
   "metadata": {},
   "outputs": [
    {
     "data": {
      "text/plain": [
       "0.7240879456105085"
      ]
     },
     "execution_count": 26,
     "metadata": {},
     "output_type": "execute_result"
    }
   ],
   "source": [
    "\n",
    "DT_hyper_model = DecisionTreeModel(\"DecisionTreeModel with hyper parameters\")\n",
    "DT_hyper_model.hyper_parameter(DT_best_params)\n",
    "if(DT_recempling):\n",
    "    DT_hyper_model.fit_with_resampling(X_train, y_train)\n",
    "else:\n",
    "    DT_hyper_model.fit(X_train, y_train)\n",
    "\n",
    "y_pred_hyper = DT_hyper_model.predict(X_test)\n",
    "\n",
    "Metrics(y_pred_hyper, y_test).f1_score()"
   ]
  },
  {
   "cell_type": "markdown",
   "metadata": {},
   "source": [
    "### XGBoost with Grid Search"
   ]
  },
  {
   "cell_type": "code",
   "execution_count": 28,
   "metadata": {},
   "outputs": [
    {
     "name": "stderr",
     "output_type": "stream",
     "text": [
      "  0%|          | 0/200 [00:00<?, ?it/s]"
     ]
    },
    {
     "name": "stderr",
     "output_type": "stream",
     "text": [
      "100%|██████████| 200/200 [49:43<00:00, 14.92s/it]  "
     ]
    },
    {
     "name": "stdout",
     "output_type": "stream",
     "text": [
      "Model: XGBoostModel with grid search\n",
      "Best Parameters: {'max_depth': 3, 'learning_rate': 0.1, 'n_estimators': 50, 'subsample': 0.7, 'colsample_bytree': 0.8999999999999999}\n",
      "Resempling: True\n",
      "Validation Accuracy: 0.7365560530635161\n"
     ]
    },
    {
     "name": "stderr",
     "output_type": "stream",
     "text": [
      "\n"
     ]
    }
   ],
   "source": [
    "xgb_gs = XGBoostModel(\"XGBoostModel with grid search\")\n",
    "xgb_best_params, xgb_resempling = xgb_gs.gs_parameter_tune(X, y, max_search=200)"
   ]
  },
  {
   "cell_type": "code",
   "execution_count": 29,
   "metadata": {},
   "outputs": [
    {
     "data": {
      "text/plain": [
       "0.757269118418096"
      ]
     },
     "execution_count": 29,
     "metadata": {},
     "output_type": "execute_result"
    }
   ],
   "source": [
    "xgb_hyper_model = XGBoostModel(\"XGBoostModel with hyper parameters\")\n",
    "xgb_hyper_model.hyper_parameter(xgb_best_params)\n",
    "if(xgb_resempling):\n",
    "    xgb_hyper_model.fit_with_resampling(X_train, y_train)\n",
    "else:\n",
    "    xgb_hyper_model.fit(X_train, y_train)\n",
    "\n",
    "y_pred_hyper = xgb_hyper_model.predict(X_test)\n",
    "\n",
    "Metrics(y_pred_hyper, y_test).f1_score()"
   ]
  },
  {
   "cell_type": "markdown",
   "metadata": {},
   "source": [
    "### AdaBoost with Grid Search"
   ]
  },
  {
   "cell_type": "code",
   "execution_count": 22,
   "metadata": {},
   "outputs": [
    {
     "name": "stderr",
     "output_type": "stream",
     "text": [
      "  0%|          | 0/30 [00:00<?, ?it/s]/home/uadmin/miniconda3/envs/ml-project-env/lib/python3.11/site-packages/sklearn/ensemble/_weight_boosting.py:519: FutureWarning: The SAMME.R algorithm (the default) is deprecated and will be removed in 1.6. Use the SAMME algorithm to circumvent this warning.\n",
      "  warnings.warn(\n",
      "/home/uadmin/miniconda3/envs/ml-project-env/lib/python3.11/site-packages/sklearn/ensemble/_weight_boosting.py:519: FutureWarning: The SAMME.R algorithm (the default) is deprecated and will be removed in 1.6. Use the SAMME algorithm to circumvent this warning.\n",
      "  warnings.warn(\n",
      "/home/uadmin/miniconda3/envs/ml-project-env/lib/python3.11/site-packages/sklearn/ensemble/_weight_boosting.py:519: FutureWarning: The SAMME.R algorithm (the default) is deprecated and will be removed in 1.6. Use the SAMME algorithm to circumvent this warning.\n",
      "  warnings.warn(\n",
      "/home/uadmin/miniconda3/envs/ml-project-env/lib/python3.11/site-packages/sklearn/ensemble/_weight_boosting.py:519: FutureWarning: The SAMME.R algorithm (the default) is deprecated and will be removed in 1.6. Use the SAMME algorithm to circumvent this warning.\n",
      "  warnings.warn(\n",
      "/home/uadmin/miniconda3/envs/ml-project-env/lib/python3.11/site-packages/sklearn/ensemble/_weight_boosting.py:519: FutureWarning: The SAMME.R algorithm (the default) is deprecated and will be removed in 1.6. Use the SAMME algorithm to circumvent this warning.\n",
      "  warnings.warn(\n",
      "/home/uadmin/miniconda3/envs/ml-project-env/lib/python3.11/site-packages/sklearn/ensemble/_weight_boosting.py:519: FutureWarning: The SAMME.R algorithm (the default) is deprecated and will be removed in 1.6. Use the SAMME algorithm to circumvent this warning.\n",
      "  warnings.warn(\n",
      "/home/uadmin/miniconda3/envs/ml-project-env/lib/python3.11/site-packages/sklearn/ensemble/_weight_boosting.py:519: FutureWarning: The SAMME.R algorithm (the default) is deprecated and will be removed in 1.6. Use the SAMME algorithm to circumvent this warning.\n",
      "  warnings.warn(\n",
      "/home/uadmin/miniconda3/envs/ml-project-env/lib/python3.11/site-packages/sklearn/ensemble/_weight_boosting.py:519: FutureWarning: The SAMME.R algorithm (the default) is deprecated and will be removed in 1.6. Use the SAMME algorithm to circumvent this warning.\n",
      "  warnings.warn(\n",
      "/home/uadmin/miniconda3/envs/ml-project-env/lib/python3.11/site-packages/sklearn/ensemble/_weight_boosting.py:519: FutureWarning: The SAMME.R algorithm (the default) is deprecated and will be removed in 1.6. Use the SAMME algorithm to circumvent this warning.\n",
      "  warnings.warn(\n",
      "/home/uadmin/miniconda3/envs/ml-project-env/lib/python3.11/site-packages/sklearn/ensemble/_weight_boosting.py:519: FutureWarning: The SAMME.R algorithm (the default) is deprecated and will be removed in 1.6. Use the SAMME algorithm to circumvent this warning.\n",
      "  warnings.warn(\n",
      "  7%|▋         | 2/30 [00:11<02:50,  6.09s/it]/home/uadmin/miniconda3/envs/ml-project-env/lib/python3.11/site-packages/sklearn/ensemble/_weight_boosting.py:519: FutureWarning: The SAMME.R algorithm (the default) is deprecated and will be removed in 1.6. Use the SAMME algorithm to circumvent this warning.\n",
      "  warnings.warn(\n",
      "/home/uadmin/miniconda3/envs/ml-project-env/lib/python3.11/site-packages/sklearn/ensemble/_weight_boosting.py:519: FutureWarning: The SAMME.R algorithm (the default) is deprecated and will be removed in 1.6. Use the SAMME algorithm to circumvent this warning.\n",
      "  warnings.warn(\n",
      "/home/uadmin/miniconda3/envs/ml-project-env/lib/python3.11/site-packages/sklearn/ensemble/_weight_boosting.py:519: FutureWarning: The SAMME.R algorithm (the default) is deprecated and will be removed in 1.6. Use the SAMME algorithm to circumvent this warning.\n",
      "  warnings.warn(\n",
      "/home/uadmin/miniconda3/envs/ml-project-env/lib/python3.11/site-packages/sklearn/ensemble/_weight_boosting.py:519: FutureWarning: The SAMME.R algorithm (the default) is deprecated and will be removed in 1.6. Use the SAMME algorithm to circumvent this warning.\n",
      "  warnings.warn(\n",
      "/home/uadmin/miniconda3/envs/ml-project-env/lib/python3.11/site-packages/sklearn/ensemble/_weight_boosting.py:519: FutureWarning: The SAMME.R algorithm (the default) is deprecated and will be removed in 1.6. Use the SAMME algorithm to circumvent this warning.\n",
      "  warnings.warn(\n",
      "/home/uadmin/miniconda3/envs/ml-project-env/lib/python3.11/site-packages/sklearn/ensemble/_weight_boosting.py:519: FutureWarning: The SAMME.R algorithm (the default) is deprecated and will be removed in 1.6. Use the SAMME algorithm to circumvent this warning.\n",
      "  warnings.warn(\n",
      "/home/uadmin/miniconda3/envs/ml-project-env/lib/python3.11/site-packages/sklearn/ensemble/_weight_boosting.py:519: FutureWarning: The SAMME.R algorithm (the default) is deprecated and will be removed in 1.6. Use the SAMME algorithm to circumvent this warning.\n",
      "  warnings.warn(\n",
      "  7%|▋         | 2/30 [00:15<03:30,  7.51s/it]\n"
     ]
    },
    {
     "ename": "KeyboardInterrupt",
     "evalue": "",
     "output_type": "error",
     "traceback": [
      "\u001b[0;31m---------------------------------------------------------------------------\u001b[0m",
      "\u001b[0;31mKeyboardInterrupt\u001b[0m                         Traceback (most recent call last)",
      "Cell \u001b[0;32mIn[22], line 2\u001b[0m\n\u001b[1;32m      1\u001b[0m AdaBoostModel_gs \u001b[38;5;241m=\u001b[39m AdaBoostModel(\u001b[38;5;124m\"\u001b[39m\u001b[38;5;124mAdaBoostModel with grid search\u001b[39m\u001b[38;5;124m\"\u001b[39m)\n\u001b[0;32m----> 2\u001b[0m ab_best_params, ab_resempling \u001b[38;5;241m=\u001b[39m \u001b[43mAdaBoostModel_gs\u001b[49m\u001b[38;5;241;43m.\u001b[39;49m\u001b[43mgs_parameter_tune\u001b[49m\u001b[43m(\u001b[49m\u001b[43mX\u001b[49m\u001b[43m,\u001b[49m\u001b[43m \u001b[49m\u001b[43my\u001b[49m\u001b[43m,\u001b[49m\u001b[43m \u001b[49m\u001b[43mmax_search\u001b[49m\u001b[38;5;241;43m=\u001b[39;49m\u001b[38;5;241;43m200\u001b[39;49m\u001b[43m)\u001b[49m\n",
      "File \u001b[0;32m~/Desktop/churn_prediction/models/abs_model.py:147\u001b[0m, in \u001b[0;36mModel.gs_parameter_tune\u001b[0;34m(self, data, label, max_search)\u001b[0m\n\u001b[1;32m    145\u001b[0m \u001b[38;5;28;01mfor\u001b[39;00m params \u001b[38;5;129;01min\u001b[39;00m tqdm(parameters_list):\n\u001b[1;32m    146\u001b[0m     \u001b[38;5;28mself\u001b[39m\u001b[38;5;241m.\u001b[39mhyper_parameter(params)\n\u001b[0;32m--> 147\u001b[0m     orig_score, resamppled_score \u001b[38;5;241m=\u001b[39m \u001b[43mcross_validate_with_resampling\u001b[49m\u001b[43m(\u001b[49m\u001b[38;5;28;43mself\u001b[39;49m\u001b[43m,\u001b[49m\u001b[43m \u001b[49m\u001b[43mdata\u001b[49m\u001b[43m,\u001b[49m\u001b[43m \u001b[49m\u001b[43mlabel\u001b[49m\u001b[43m,\u001b[49m\u001b[43m \u001b[49m\u001b[43mn_splits\u001b[49m\u001b[38;5;241;43m=\u001b[39;49m\u001b[38;5;241;43m5\u001b[39;49m\u001b[43m,\u001b[49m\u001b[43m \u001b[49m\u001b[43mrandom_state\u001b[49m\u001b[38;5;241;43m=\u001b[39;49m\u001b[38;5;241;43m42\u001b[39;49m\u001b[43m)\u001b[49m\n\u001b[1;32m    148\u001b[0m     resampling \u001b[38;5;241m=\u001b[39m (resamppled_score \u001b[38;5;241m>\u001b[39m orig_score)\n\u001b[1;32m    149\u001b[0m     score \u001b[38;5;241m=\u001b[39m resamppled_score \u001b[38;5;28;01mif\u001b[39;00m resampling \u001b[38;5;28;01melse\u001b[39;00m orig_score\n",
      "File \u001b[0;32m~/Desktop/churn_prediction/metrics.py:123\u001b[0m, in \u001b[0;36mcross_validate_with_resampling\u001b[0;34m(model, X, y, n_splits, random_state)\u001b[0m\n\u001b[1;32m    120\u001b[0m Xr_train, yr_train \u001b[38;5;241m=\u001b[39m sm\u001b[38;5;241m.\u001b[39mfit_resample(X_train, y_train)\n\u001b[1;32m    122\u001b[0m \u001b[38;5;66;03m# Train on the original dataset\u001b[39;00m\n\u001b[0;32m--> 123\u001b[0m \u001b[43mmodel\u001b[49m\u001b[38;5;241;43m.\u001b[39;49m\u001b[43mfit\u001b[49m\u001b[43m(\u001b[49m\u001b[43mX_train\u001b[49m\u001b[43m,\u001b[49m\u001b[43m \u001b[49m\u001b[43my_train\u001b[49m\u001b[43m)\u001b[49m\n\u001b[1;32m    124\u001b[0m y_pred \u001b[38;5;241m=\u001b[39m model\u001b[38;5;241m.\u001b[39mpredict(X_test)\n\u001b[1;32m    125\u001b[0m original_f1_scores\u001b[38;5;241m.\u001b[39mappend(f1_score(y_test, y_pred, average\u001b[38;5;241m=\u001b[39m\u001b[38;5;124m'\u001b[39m\u001b[38;5;124mmacro\u001b[39m\u001b[38;5;124m'\u001b[39m))\n",
      "File \u001b[0;32m~/Desktop/churn_prediction/models/abs_model.py:64\u001b[0m, in \u001b[0;36mModel.fit\u001b[0;34m(self, data, label)\u001b[0m\n\u001b[1;32m     56\u001b[0m \u001b[38;5;28;01mdef\u001b[39;00m \u001b[38;5;21mfit\u001b[39m(\u001b[38;5;28mself\u001b[39m, data, label):\n\u001b[1;32m     57\u001b[0m \u001b[38;5;250m    \u001b[39m\u001b[38;5;124;03m\"\"\"\u001b[39;00m\n\u001b[1;32m     58\u001b[0m \u001b[38;5;124;03m    Train the Decision Tree Classifier.\u001b[39;00m\n\u001b[1;32m     59\u001b[0m \n\u001b[0;32m   (...)\u001b[0m\n\u001b[1;32m     62\u001b[0m \u001b[38;5;124;03m        label: The labels corresponding to the training data.\u001b[39;00m\n\u001b[1;32m     63\u001b[0m \u001b[38;5;124;03m    \"\"\"\u001b[39;00m\n\u001b[0;32m---> 64\u001b[0m     \u001b[38;5;28;43mself\u001b[39;49m\u001b[38;5;241;43m.\u001b[39;49m\u001b[43mmodel\u001b[49m\u001b[38;5;241;43m.\u001b[39;49m\u001b[43mfit\u001b[49m\u001b[43m(\u001b[49m\u001b[43mdata\u001b[49m\u001b[43m,\u001b[49m\u001b[43m \u001b[49m\u001b[43mlabel\u001b[49m\u001b[43m)\u001b[49m\n\u001b[1;32m     65\u001b[0m     \u001b[38;5;28mself\u001b[39m\u001b[38;5;241m.\u001b[39m_is_trained \u001b[38;5;241m=\u001b[39m \u001b[38;5;28;01mTrue\u001b[39;00m\n",
      "File \u001b[0;32m~/miniconda3/envs/ml-project-env/lib/python3.11/site-packages/sklearn/base.py:1351\u001b[0m, in \u001b[0;36m_fit_context.<locals>.decorator.<locals>.wrapper\u001b[0;34m(estimator, *args, **kwargs)\u001b[0m\n\u001b[1;32m   1344\u001b[0m     estimator\u001b[38;5;241m.\u001b[39m_validate_params()\n\u001b[1;32m   1346\u001b[0m \u001b[38;5;28;01mwith\u001b[39;00m config_context(\n\u001b[1;32m   1347\u001b[0m     skip_parameter_validation\u001b[38;5;241m=\u001b[39m(\n\u001b[1;32m   1348\u001b[0m         prefer_skip_nested_validation \u001b[38;5;129;01mor\u001b[39;00m global_skip_validation\n\u001b[1;32m   1349\u001b[0m     )\n\u001b[1;32m   1350\u001b[0m ):\n\u001b[0;32m-> 1351\u001b[0m     \u001b[38;5;28;01mreturn\u001b[39;00m \u001b[43mfit_method\u001b[49m\u001b[43m(\u001b[49m\u001b[43mestimator\u001b[49m\u001b[43m,\u001b[49m\u001b[43m \u001b[49m\u001b[38;5;241;43m*\u001b[39;49m\u001b[43margs\u001b[49m\u001b[43m,\u001b[49m\u001b[43m \u001b[49m\u001b[38;5;241;43m*\u001b[39;49m\u001b[38;5;241;43m*\u001b[39;49m\u001b[43mkwargs\u001b[49m\u001b[43m)\u001b[49m\n",
      "File \u001b[0;32m~/miniconda3/envs/ml-project-env/lib/python3.11/site-packages/sklearn/ensemble/_weight_boosting.py:169\u001b[0m, in \u001b[0;36mBaseWeightBoosting.fit\u001b[0;34m(self, X, y, sample_weight)\u001b[0m\n\u001b[1;32m    166\u001b[0m sample_weight[zero_weight_mask] \u001b[38;5;241m=\u001b[39m \u001b[38;5;241m0.0\u001b[39m\n\u001b[1;32m    168\u001b[0m \u001b[38;5;66;03m# Boosting step\u001b[39;00m\n\u001b[0;32m--> 169\u001b[0m sample_weight, estimator_weight, estimator_error \u001b[38;5;241m=\u001b[39m \u001b[38;5;28;43mself\u001b[39;49m\u001b[38;5;241;43m.\u001b[39;49m\u001b[43m_boost\u001b[49m\u001b[43m(\u001b[49m\n\u001b[1;32m    170\u001b[0m \u001b[43m    \u001b[49m\u001b[43miboost\u001b[49m\u001b[43m,\u001b[49m\u001b[43m \u001b[49m\u001b[43mX\u001b[49m\u001b[43m,\u001b[49m\u001b[43m \u001b[49m\u001b[43my\u001b[49m\u001b[43m,\u001b[49m\u001b[43m \u001b[49m\u001b[43msample_weight\u001b[49m\u001b[43m,\u001b[49m\u001b[43m \u001b[49m\u001b[43mrandom_state\u001b[49m\n\u001b[1;32m    171\u001b[0m \u001b[43m\u001b[49m\u001b[43m)\u001b[49m\n\u001b[1;32m    173\u001b[0m \u001b[38;5;66;03m# Early termination\u001b[39;00m\n\u001b[1;32m    174\u001b[0m \u001b[38;5;28;01mif\u001b[39;00m sample_weight \u001b[38;5;129;01mis\u001b[39;00m \u001b[38;5;28;01mNone\u001b[39;00m:\n",
      "File \u001b[0;32m~/miniconda3/envs/ml-project-env/lib/python3.11/site-packages/sklearn/ensemble/_weight_boosting.py:586\u001b[0m, in \u001b[0;36mAdaBoostClassifier._boost\u001b[0;34m(self, iboost, X, y, sample_weight, random_state)\u001b[0m\n\u001b[1;32m    547\u001b[0m \u001b[38;5;250m\u001b[39m\u001b[38;5;124;03m\"\"\"Implement a single boost.\u001b[39;00m\n\u001b[1;32m    548\u001b[0m \n\u001b[1;32m    549\u001b[0m \u001b[38;5;124;03mPerform a single boost according to the real multi-class SAMME.R\u001b[39;00m\n\u001b[0;32m   (...)\u001b[0m\n\u001b[1;32m    583\u001b[0m \u001b[38;5;124;03m    If None then boosting has terminated early.\u001b[39;00m\n\u001b[1;32m    584\u001b[0m \u001b[38;5;124;03m\"\"\"\u001b[39;00m\n\u001b[1;32m    585\u001b[0m \u001b[38;5;28;01mif\u001b[39;00m \u001b[38;5;28mself\u001b[39m\u001b[38;5;241m.\u001b[39malgorithm \u001b[38;5;241m==\u001b[39m \u001b[38;5;124m\"\u001b[39m\u001b[38;5;124mSAMME.R\u001b[39m\u001b[38;5;124m\"\u001b[39m:\n\u001b[0;32m--> 586\u001b[0m     \u001b[38;5;28;01mreturn\u001b[39;00m \u001b[38;5;28;43mself\u001b[39;49m\u001b[38;5;241;43m.\u001b[39;49m\u001b[43m_boost_real\u001b[49m\u001b[43m(\u001b[49m\u001b[43miboost\u001b[49m\u001b[43m,\u001b[49m\u001b[43m \u001b[49m\u001b[43mX\u001b[49m\u001b[43m,\u001b[49m\u001b[43m \u001b[49m\u001b[43my\u001b[49m\u001b[43m,\u001b[49m\u001b[43m \u001b[49m\u001b[43msample_weight\u001b[49m\u001b[43m,\u001b[49m\u001b[43m \u001b[49m\u001b[43mrandom_state\u001b[49m\u001b[43m)\u001b[49m\n\u001b[1;32m    588\u001b[0m \u001b[38;5;28;01melse\u001b[39;00m:  \u001b[38;5;66;03m# elif self.algorithm == \"SAMME\":\u001b[39;00m\n\u001b[1;32m    589\u001b[0m     \u001b[38;5;28;01mreturn\u001b[39;00m \u001b[38;5;28mself\u001b[39m\u001b[38;5;241m.\u001b[39m_boost_discrete(iboost, X, y, sample_weight, random_state)\n",
      "File \u001b[0;32m~/miniconda3/envs/ml-project-env/lib/python3.11/site-packages/sklearn/ensemble/_weight_boosting.py:597\u001b[0m, in \u001b[0;36mAdaBoostClassifier._boost_real\u001b[0;34m(self, iboost, X, y, sample_weight, random_state)\u001b[0m\n\u001b[1;32m    594\u001b[0m \u001b[38;5;250m\u001b[39m\u001b[38;5;124;03m\"\"\"Implement a single boost using the SAMME.R real algorithm.\"\"\"\u001b[39;00m\n\u001b[1;32m    595\u001b[0m estimator \u001b[38;5;241m=\u001b[39m \u001b[38;5;28mself\u001b[39m\u001b[38;5;241m.\u001b[39m_make_estimator(random_state\u001b[38;5;241m=\u001b[39mrandom_state)\n\u001b[0;32m--> 597\u001b[0m \u001b[43mestimator\u001b[49m\u001b[38;5;241;43m.\u001b[39;49m\u001b[43mfit\u001b[49m\u001b[43m(\u001b[49m\u001b[43mX\u001b[49m\u001b[43m,\u001b[49m\u001b[43m \u001b[49m\u001b[43my\u001b[49m\u001b[43m,\u001b[49m\u001b[43m \u001b[49m\u001b[43msample_weight\u001b[49m\u001b[38;5;241;43m=\u001b[39;49m\u001b[43msample_weight\u001b[49m\u001b[43m)\u001b[49m\n\u001b[1;32m    599\u001b[0m y_predict_proba \u001b[38;5;241m=\u001b[39m estimator\u001b[38;5;241m.\u001b[39mpredict_proba(X)\n\u001b[1;32m    601\u001b[0m \u001b[38;5;28;01mif\u001b[39;00m iboost \u001b[38;5;241m==\u001b[39m \u001b[38;5;241m0\u001b[39m:\n",
      "File \u001b[0;32m~/miniconda3/envs/ml-project-env/lib/python3.11/site-packages/sklearn/base.py:1351\u001b[0m, in \u001b[0;36m_fit_context.<locals>.decorator.<locals>.wrapper\u001b[0;34m(estimator, *args, **kwargs)\u001b[0m\n\u001b[1;32m   1344\u001b[0m     estimator\u001b[38;5;241m.\u001b[39m_validate_params()\n\u001b[1;32m   1346\u001b[0m \u001b[38;5;28;01mwith\u001b[39;00m config_context(\n\u001b[1;32m   1347\u001b[0m     skip_parameter_validation\u001b[38;5;241m=\u001b[39m(\n\u001b[1;32m   1348\u001b[0m         prefer_skip_nested_validation \u001b[38;5;129;01mor\u001b[39;00m global_skip_validation\n\u001b[1;32m   1349\u001b[0m     )\n\u001b[1;32m   1350\u001b[0m ):\n\u001b[0;32m-> 1351\u001b[0m     \u001b[38;5;28;01mreturn\u001b[39;00m \u001b[43mfit_method\u001b[49m\u001b[43m(\u001b[49m\u001b[43mestimator\u001b[49m\u001b[43m,\u001b[49m\u001b[43m \u001b[49m\u001b[38;5;241;43m*\u001b[39;49m\u001b[43margs\u001b[49m\u001b[43m,\u001b[49m\u001b[43m \u001b[49m\u001b[38;5;241;43m*\u001b[39;49m\u001b[38;5;241;43m*\u001b[39;49m\u001b[43mkwargs\u001b[49m\u001b[43m)\u001b[49m\n",
      "File \u001b[0;32m~/miniconda3/envs/ml-project-env/lib/python3.11/site-packages/sklearn/tree/_classes.py:1009\u001b[0m, in \u001b[0;36mDecisionTreeClassifier.fit\u001b[0;34m(self, X, y, sample_weight, check_input)\u001b[0m\n\u001b[1;32m    978\u001b[0m \u001b[38;5;129m@_fit_context\u001b[39m(prefer_skip_nested_validation\u001b[38;5;241m=\u001b[39m\u001b[38;5;28;01mTrue\u001b[39;00m)\n\u001b[1;32m    979\u001b[0m \u001b[38;5;28;01mdef\u001b[39;00m \u001b[38;5;21mfit\u001b[39m(\u001b[38;5;28mself\u001b[39m, X, y, sample_weight\u001b[38;5;241m=\u001b[39m\u001b[38;5;28;01mNone\u001b[39;00m, check_input\u001b[38;5;241m=\u001b[39m\u001b[38;5;28;01mTrue\u001b[39;00m):\n\u001b[1;32m    980\u001b[0m \u001b[38;5;250m    \u001b[39m\u001b[38;5;124;03m\"\"\"Build a decision tree classifier from the training set (X, y).\u001b[39;00m\n\u001b[1;32m    981\u001b[0m \n\u001b[1;32m    982\u001b[0m \u001b[38;5;124;03m    Parameters\u001b[39;00m\n\u001b[0;32m   (...)\u001b[0m\n\u001b[1;32m   1006\u001b[0m \u001b[38;5;124;03m        Fitted estimator.\u001b[39;00m\n\u001b[1;32m   1007\u001b[0m \u001b[38;5;124;03m    \"\"\"\u001b[39;00m\n\u001b[0;32m-> 1009\u001b[0m     \u001b[38;5;28;43msuper\u001b[39;49m\u001b[43m(\u001b[49m\u001b[43m)\u001b[49m\u001b[38;5;241;43m.\u001b[39;49m\u001b[43m_fit\u001b[49m\u001b[43m(\u001b[49m\n\u001b[1;32m   1010\u001b[0m \u001b[43m        \u001b[49m\u001b[43mX\u001b[49m\u001b[43m,\u001b[49m\n\u001b[1;32m   1011\u001b[0m \u001b[43m        \u001b[49m\u001b[43my\u001b[49m\u001b[43m,\u001b[49m\n\u001b[1;32m   1012\u001b[0m \u001b[43m        \u001b[49m\u001b[43msample_weight\u001b[49m\u001b[38;5;241;43m=\u001b[39;49m\u001b[43msample_weight\u001b[49m\u001b[43m,\u001b[49m\n\u001b[1;32m   1013\u001b[0m \u001b[43m        \u001b[49m\u001b[43mcheck_input\u001b[49m\u001b[38;5;241;43m=\u001b[39;49m\u001b[43mcheck_input\u001b[49m\u001b[43m,\u001b[49m\n\u001b[1;32m   1014\u001b[0m \u001b[43m    \u001b[49m\u001b[43m)\u001b[49m\n\u001b[1;32m   1015\u001b[0m     \u001b[38;5;28;01mreturn\u001b[39;00m \u001b[38;5;28mself\u001b[39m\n",
      "File \u001b[0;32m~/miniconda3/envs/ml-project-env/lib/python3.11/site-packages/sklearn/tree/_classes.py:252\u001b[0m, in \u001b[0;36mBaseDecisionTree._fit\u001b[0;34m(self, X, y, sample_weight, check_input, missing_values_in_feature_mask)\u001b[0m\n\u001b[1;32m    248\u001b[0m check_X_params \u001b[38;5;241m=\u001b[39m \u001b[38;5;28mdict\u001b[39m(\n\u001b[1;32m    249\u001b[0m     dtype\u001b[38;5;241m=\u001b[39mDTYPE, accept_sparse\u001b[38;5;241m=\u001b[39m\u001b[38;5;124m\"\u001b[39m\u001b[38;5;124mcsc\u001b[39m\u001b[38;5;124m\"\u001b[39m, force_all_finite\u001b[38;5;241m=\u001b[39m\u001b[38;5;28;01mFalse\u001b[39;00m\n\u001b[1;32m    250\u001b[0m )\n\u001b[1;32m    251\u001b[0m check_y_params \u001b[38;5;241m=\u001b[39m \u001b[38;5;28mdict\u001b[39m(ensure_2d\u001b[38;5;241m=\u001b[39m\u001b[38;5;28;01mFalse\u001b[39;00m, dtype\u001b[38;5;241m=\u001b[39m\u001b[38;5;28;01mNone\u001b[39;00m)\n\u001b[0;32m--> 252\u001b[0m X, y \u001b[38;5;241m=\u001b[39m \u001b[38;5;28;43mself\u001b[39;49m\u001b[38;5;241;43m.\u001b[39;49m\u001b[43m_validate_data\u001b[49m\u001b[43m(\u001b[49m\n\u001b[1;32m    253\u001b[0m \u001b[43m    \u001b[49m\u001b[43mX\u001b[49m\u001b[43m,\u001b[49m\u001b[43m \u001b[49m\u001b[43my\u001b[49m\u001b[43m,\u001b[49m\u001b[43m \u001b[49m\u001b[43mvalidate_separately\u001b[49m\u001b[38;5;241;43m=\u001b[39;49m\u001b[43m(\u001b[49m\u001b[43mcheck_X_params\u001b[49m\u001b[43m,\u001b[49m\u001b[43m \u001b[49m\u001b[43mcheck_y_params\u001b[49m\u001b[43m)\u001b[49m\n\u001b[1;32m    254\u001b[0m \u001b[43m\u001b[49m\u001b[43m)\u001b[49m\n\u001b[1;32m    256\u001b[0m missing_values_in_feature_mask \u001b[38;5;241m=\u001b[39m (\n\u001b[1;32m    257\u001b[0m     \u001b[38;5;28mself\u001b[39m\u001b[38;5;241m.\u001b[39m_compute_missing_values_in_feature_mask(X)\n\u001b[1;32m    258\u001b[0m )\n\u001b[1;32m    259\u001b[0m \u001b[38;5;28;01mif\u001b[39;00m issparse(X):\n",
      "File \u001b[0;32m~/miniconda3/envs/ml-project-env/lib/python3.11/site-packages/sklearn/base.py:645\u001b[0m, in \u001b[0;36mBaseEstimator._validate_data\u001b[0;34m(self, X, y, reset, validate_separately, cast_to_ndarray, **check_params)\u001b[0m\n\u001b[1;32m    643\u001b[0m \u001b[38;5;28;01mif\u001b[39;00m \u001b[38;5;124m\"\u001b[39m\u001b[38;5;124mestimator\u001b[39m\u001b[38;5;124m\"\u001b[39m \u001b[38;5;129;01mnot\u001b[39;00m \u001b[38;5;129;01min\u001b[39;00m check_X_params:\n\u001b[1;32m    644\u001b[0m     check_X_params \u001b[38;5;241m=\u001b[39m {\u001b[38;5;241m*\u001b[39m\u001b[38;5;241m*\u001b[39mdefault_check_params, \u001b[38;5;241m*\u001b[39m\u001b[38;5;241m*\u001b[39mcheck_X_params}\n\u001b[0;32m--> 645\u001b[0m X \u001b[38;5;241m=\u001b[39m \u001b[43mcheck_array\u001b[49m\u001b[43m(\u001b[49m\u001b[43mX\u001b[49m\u001b[43m,\u001b[49m\u001b[43m \u001b[49m\u001b[43minput_name\u001b[49m\u001b[38;5;241;43m=\u001b[39;49m\u001b[38;5;124;43m\"\u001b[39;49m\u001b[38;5;124;43mX\u001b[39;49m\u001b[38;5;124;43m\"\u001b[39;49m\u001b[43m,\u001b[49m\u001b[43m \u001b[49m\u001b[38;5;241;43m*\u001b[39;49m\u001b[38;5;241;43m*\u001b[39;49m\u001b[43mcheck_X_params\u001b[49m\u001b[43m)\u001b[49m\n\u001b[1;32m    646\u001b[0m \u001b[38;5;28;01mif\u001b[39;00m \u001b[38;5;124m\"\u001b[39m\u001b[38;5;124mestimator\u001b[39m\u001b[38;5;124m\"\u001b[39m \u001b[38;5;129;01mnot\u001b[39;00m \u001b[38;5;129;01min\u001b[39;00m check_y_params:\n\u001b[1;32m    647\u001b[0m     check_y_params \u001b[38;5;241m=\u001b[39m {\u001b[38;5;241m*\u001b[39m\u001b[38;5;241m*\u001b[39mdefault_check_params, \u001b[38;5;241m*\u001b[39m\u001b[38;5;241m*\u001b[39mcheck_y_params}\n",
      "File \u001b[0;32m~/miniconda3/envs/ml-project-env/lib/python3.11/site-packages/sklearn/utils/validation.py:1024\u001b[0m, in \u001b[0;36mcheck_array\u001b[0;34m(array, accept_sparse, accept_large_sparse, dtype, order, copy, force_all_finite, ensure_2d, allow_nd, ensure_min_samples, ensure_min_features, estimator, input_name)\u001b[0m\n\u001b[1;32m   1019\u001b[0m             array \u001b[38;5;241m=\u001b[39m _asarray_with_order(\n\u001b[1;32m   1020\u001b[0m                 array, dtype\u001b[38;5;241m=\u001b[39mdtype, order\u001b[38;5;241m=\u001b[39morder, copy\u001b[38;5;241m=\u001b[39m\u001b[38;5;28;01mTrue\u001b[39;00m, xp\u001b[38;5;241m=\u001b[39mxp\n\u001b[1;32m   1021\u001b[0m             )\n\u001b[1;32m   1023\u001b[0m \u001b[38;5;28;01mif\u001b[39;00m ensure_min_samples \u001b[38;5;241m>\u001b[39m \u001b[38;5;241m0\u001b[39m:\n\u001b[0;32m-> 1024\u001b[0m     n_samples \u001b[38;5;241m=\u001b[39m \u001b[43m_num_samples\u001b[49m\u001b[43m(\u001b[49m\u001b[43marray\u001b[49m\u001b[43m)\u001b[49m\n\u001b[1;32m   1025\u001b[0m     \u001b[38;5;28;01mif\u001b[39;00m n_samples \u001b[38;5;241m<\u001b[39m ensure_min_samples:\n\u001b[1;32m   1026\u001b[0m         \u001b[38;5;28;01mraise\u001b[39;00m \u001b[38;5;167;01mValueError\u001b[39;00m(\n\u001b[1;32m   1027\u001b[0m             \u001b[38;5;124m\"\u001b[39m\u001b[38;5;124mFound array with \u001b[39m\u001b[38;5;132;01m%d\u001b[39;00m\u001b[38;5;124m sample(s) (shape=\u001b[39m\u001b[38;5;132;01m%s\u001b[39;00m\u001b[38;5;124m) while a\u001b[39m\u001b[38;5;124m\"\u001b[39m\n\u001b[1;32m   1028\u001b[0m             \u001b[38;5;124m\"\u001b[39m\u001b[38;5;124m minimum of \u001b[39m\u001b[38;5;132;01m%d\u001b[39;00m\u001b[38;5;124m is required\u001b[39m\u001b[38;5;132;01m%s\u001b[39;00m\u001b[38;5;124m.\u001b[39m\u001b[38;5;124m\"\u001b[39m\n\u001b[1;32m   1029\u001b[0m             \u001b[38;5;241m%\u001b[39m (n_samples, array\u001b[38;5;241m.\u001b[39mshape, ensure_min_samples, context)\n\u001b[1;32m   1030\u001b[0m         )\n",
      "File \u001b[0;32m~/miniconda3/envs/ml-project-env/lib/python3.11/site-packages/sklearn/utils/validation.py:351\u001b[0m, in \u001b[0;36m_num_samples\u001b[0;34m(x)\u001b[0m\n\u001b[1;32m    347\u001b[0m \u001b[38;5;28;01mif\u001b[39;00m \u001b[38;5;28mhasattr\u001b[39m(x, \u001b[38;5;124m\"\u001b[39m\u001b[38;5;124mfit\u001b[39m\u001b[38;5;124m\"\u001b[39m) \u001b[38;5;129;01mand\u001b[39;00m \u001b[38;5;28mcallable\u001b[39m(x\u001b[38;5;241m.\u001b[39mfit):\n\u001b[1;32m    348\u001b[0m     \u001b[38;5;66;03m# Don't get num_samples from an ensembles length!\u001b[39;00m\n\u001b[1;32m    349\u001b[0m     \u001b[38;5;28;01mraise\u001b[39;00m \u001b[38;5;167;01mTypeError\u001b[39;00m(message)\n\u001b[0;32m--> 351\u001b[0m \u001b[38;5;28;01mif\u001b[39;00m \u001b[43m_use_interchange_protocol\u001b[49m\u001b[43m(\u001b[49m\u001b[43mx\u001b[49m\u001b[43m)\u001b[49m:\n\u001b[1;32m    352\u001b[0m     \u001b[38;5;28;01mreturn\u001b[39;00m x\u001b[38;5;241m.\u001b[39m__dataframe__()\u001b[38;5;241m.\u001b[39mnum_rows()\n\u001b[1;32m    354\u001b[0m \u001b[38;5;28;01mif\u001b[39;00m \u001b[38;5;129;01mnot\u001b[39;00m \u001b[38;5;28mhasattr\u001b[39m(x, \u001b[38;5;124m\"\u001b[39m\u001b[38;5;124m__len__\u001b[39m\u001b[38;5;124m\"\u001b[39m) \u001b[38;5;129;01mand\u001b[39;00m \u001b[38;5;129;01mnot\u001b[39;00m \u001b[38;5;28mhasattr\u001b[39m(x, \u001b[38;5;124m\"\u001b[39m\u001b[38;5;124mshape\u001b[39m\u001b[38;5;124m\"\u001b[39m):\n",
      "File \u001b[0;32m~/miniconda3/envs/ml-project-env/lib/python3.11/site-packages/sklearn/utils/validation.py:288\u001b[0m, in \u001b[0;36m_use_interchange_protocol\u001b[0;34m(X)\u001b[0m\n\u001b[1;32m    281\u001b[0m \u001b[38;5;28;01mdef\u001b[39;00m \u001b[38;5;21m_use_interchange_protocol\u001b[39m(X):\n\u001b[1;32m    282\u001b[0m \u001b[38;5;250m    \u001b[39m\u001b[38;5;124;03m\"\"\"Use interchange protocol for non-pandas dataframes that follow the protocol.\u001b[39;00m\n\u001b[1;32m    283\u001b[0m \n\u001b[1;32m    284\u001b[0m \u001b[38;5;124;03m    Note: at this point we chose not to use the interchange API on pandas dataframe\u001b[39;00m\n\u001b[1;32m    285\u001b[0m \u001b[38;5;124;03m    to ensure strict behavioral backward compatibility with older versions of\u001b[39;00m\n\u001b[1;32m    286\u001b[0m \u001b[38;5;124;03m    scikit-learn.\u001b[39;00m\n\u001b[1;32m    287\u001b[0m \u001b[38;5;124;03m    \"\"\"\u001b[39;00m\n\u001b[0;32m--> 288\u001b[0m     \u001b[38;5;28;01mreturn\u001b[39;00m \u001b[38;5;129;01mnot\u001b[39;00m \u001b[43m_is_pandas_df\u001b[49m\u001b[43m(\u001b[49m\u001b[43mX\u001b[49m\u001b[43m)\u001b[49m \u001b[38;5;129;01mand\u001b[39;00m \u001b[38;5;28mhasattr\u001b[39m(X, \u001b[38;5;124m\"\u001b[39m\u001b[38;5;124m__dataframe__\u001b[39m\u001b[38;5;124m\"\u001b[39m)\n",
      "File \u001b[0;32m~/miniconda3/envs/ml-project-env/lib/python3.11/site-packages/sklearn/utils/validation.py:2071\u001b[0m, in \u001b[0;36m_is_pandas_df\u001b[0;34m(X)\u001b[0m\n\u001b[1;32m   2064\u001b[0m             method_params_validated[param_key] \u001b[38;5;241m=\u001b[39m _safe_indexing(\n\u001b[1;32m   2065\u001b[0m                 method_params_validated[param_key], indices\n\u001b[1;32m   2066\u001b[0m             )\n\u001b[1;32m   2068\u001b[0m     \u001b[38;5;28;01mreturn\u001b[39;00m method_params_validated\n\u001b[0;32m-> 2071\u001b[0m \u001b[38;5;28;01mdef\u001b[39;00m \u001b[38;5;21m_is_pandas_df\u001b[39m(X):\n\u001b[1;32m   2072\u001b[0m \u001b[38;5;250m    \u001b[39m\u001b[38;5;124;03m\"\"\"Return True if the X is a pandas dataframe.\"\"\"\u001b[39;00m\n\u001b[1;32m   2073\u001b[0m     \u001b[38;5;28;01mif\u001b[39;00m \u001b[38;5;28mhasattr\u001b[39m(X, \u001b[38;5;124m\"\u001b[39m\u001b[38;5;124mcolumns\u001b[39m\u001b[38;5;124m\"\u001b[39m) \u001b[38;5;129;01mand\u001b[39;00m \u001b[38;5;28mhasattr\u001b[39m(X, \u001b[38;5;124m\"\u001b[39m\u001b[38;5;124miloc\u001b[39m\u001b[38;5;124m\"\u001b[39m):\n\u001b[1;32m   2074\u001b[0m         \u001b[38;5;66;03m# Likely a pandas DataFrame, we explicitly check the type to confirm.\u001b[39;00m\n",
      "\u001b[0;31mKeyboardInterrupt\u001b[0m: "
     ]
    }
   ],
   "source": [
    "AdaBoostModel_gs = AdaBoostModel(\"AdaBoostModel with grid search\")\n",
    "ab_best_params, ab_resempling = AdaBoostModel_gs.gs_parameter_tune(X, y, max_search=200)"
   ]
  },
  {
   "cell_type": "code",
   "execution_count": null,
   "metadata": {},
   "outputs": [
    {
     "name": "stderr",
     "output_type": "stream",
     "text": [
      "/home/uadmin/miniconda3/envs/ml-project-env/lib/python3.11/site-packages/sklearn/ensemble/_weight_boosting.py:519: FutureWarning: The SAMME.R algorithm (the default) is deprecated and will be removed in 1.6. Use the SAMME algorithm to circumvent this warning.\n",
      "  warnings.warn(\n"
     ]
    },
    {
     "data": {
      "text/plain": [
       "0.7435896076820467"
      ]
     },
     "metadata": {},
     "output_type": "display_data"
    }
   ],
   "source": [
    "ab_hyper_model = AdaBoostModel(\"AdaBoostModel with hyper parameters\")\n",
    "ab_hyper_model.hyper_parameter(ab_best_params)\n",
    "if(ab_resempling):\n",
    "    ab_hyper_model.fit_with_resampling(X_train, y_train)\n",
    "else:\n",
    "    ab_hyper_model.fit(X_train, y_train)\n",
    "\n",
    "y_pred_hyper = ab_hyper_model.predict(X_test)\n",
    "\n",
    "Metrics(y_pred_hyper, y_test).f1_score()"
   ]
  },
  {
   "cell_type": "markdown",
   "metadata": {},
   "source": [
    "### Gradient Boosting with Grid Search"
   ]
  },
  {
   "cell_type": "code",
   "execution_count": null,
   "metadata": {},
   "outputs": [
    {
     "name": "stderr",
     "output_type": "stream",
     "text": [
      "100%|██████████| 100/100 [45:45<00:00, 27.46s/it]"
     ]
    },
    {
     "name": "stdout",
     "output_type": "stream",
     "text": [
      "Model: GradientBoostingModel with grid search\n",
      "Best Parameters: {'loss': 'log_loss', 'learning_rate': 0.1, 'n_estimators': 50, 'max_depth': 3, 'min_samples_split': 7, 'min_impurity_decrease': 0.01}\n",
      "Resempling: True\n",
      "Validation Accuracy: 0.7370372507161347\n"
     ]
    },
    {
     "name": "stderr",
     "output_type": "stream",
     "text": [
      "\n"
     ]
    }
   ],
   "source": [
    "GradientBoostingModel_gs = GradientBoostingModel(\"GradientBoostingModel with grid search\")\n",
    "gb_best_params, gb_resempling = GradientBoostingModel_gs.gs_parameter_tune(X, y, grid_search_parameters['GradientBoostingClassifier'], max_search=100)"
   ]
  },
  {
   "cell_type": "code",
   "execution_count": null,
   "metadata": {},
   "outputs": [
    {
     "data": {
      "text/plain": [
       "0.7553634785234393"
      ]
     },
     "metadata": {},
     "output_type": "display_data"
    }
   ],
   "source": [
    "gb_hyper_model = GradientBoostingModel(\"GradientBoostingModel with hyper parameters\")\n",
    "gb_hyper_model.hyper_parameter(gb_best_params)\n",
    "if(gb_resempling):\n",
    "    gb_hyper_model.fit_with_resampling(X_train, y_train)\n",
    "else:\n",
    "    gb_hyper_model.fit(X_train, y_train)\n",
    "\n",
    "y_pred_hyper = gb_hyper_model.predict(X_test)\n",
    "\n",
    "Metrics(y_pred_hyper, y_test).f1_score()"
   ]
  },
  {
   "cell_type": "code",
   "execution_count": null,
   "metadata": {},
   "outputs": [],
   "source": [
    "# gb_hyper_model.save('gb_hyper_model.pkl')"
   ]
  },
  {
   "cell_type": "code",
   "execution_count": null,
   "metadata": {},
   "outputs": [],
   "source": [
    "load_model = GradientBoostingModel()\n",
    "load_model.load('gb_hyper_model.pkl')"
   ]
  },
  {
   "cell_type": "code",
   "execution_count": null,
   "metadata": {},
   "outputs": [
    {
     "data": {
      "text/plain": [
       "0.7553634785234393"
      ]
     },
     "metadata": {},
     "output_type": "display_data"
    }
   ],
   "source": [
    "y_pred_load = load_model.predict(X_test)\n",
    "Metrics(y_pred_load, y_test).f1_score()\n"
   ]
  },
  {
   "cell_type": "markdown",
   "metadata": {},
   "source": [
    "### Random Forest Classifier with Grid Search"
   ]
  },
  {
   "cell_type": "code",
   "execution_count": null,
   "metadata": {},
   "outputs": [],
   "source": [
    "RandomForestModel_gs = RandomForestModel(\"RandomForestModel with grid search\")\n",
    "rf_best_params, rf_resempling = RandomForestModel_gs.gs_parameter_tune(X, y, grid_search_parameters['RandomForestClassifier'], max_search=200)"
   ]
  },
  {
   "cell_type": "code",
   "execution_count": null,
   "metadata": {},
   "outputs": [],
   "source": [
    "rf_hyper_model = RandomForestModel(\"RandomForestModel with hyper parameters\")\n",
    "rf_hyper_model.hyper_parameter(rf_best_params)\n",
    "if(rf_resempling):\n",
    "    rf_hyper_model.fit_with_resampling(X_train, y_train)\n",
    "else:\n",
    "    rf_hyper_model.fit(X_train, y_train)\n",
    "\n",
    "y_pred_hyper = rf_hyper_model.predict(X_test)\n",
    "\n",
    "Metrics(y_pred_hyper, y_test).f1_score()"
   ]
  },
  {
   "cell_type": "code",
   "execution_count": null,
   "metadata": {},
   "outputs": [],
   "source": [
    "DecisionTreeModel_gs = DecisionTreeModel(\"DecisionTreeModel with grid search\")\n",
    "DT_best_params, DT_recempling = DecisionTreeModel_gs.gs_parameter_tune(X, y, grid_search_parameters['DecisionTreeModel'], max_search=200)"
   ]
  },
  {
   "cell_type": "code",
   "execution_count": null,
   "metadata": {},
   "outputs": [
    {
     "data": {
      "text/plain": [
       "0.7409847115414075"
      ]
     },
     "metadata": {},
     "output_type": "display_data"
    }
   ],
   "source": [
    "DT_hyper_model = DecisionTreeModel(\"DecisionTreeModel with hyper parameters\")\n",
    "DT_hyper_model.hyper_parameter(DT_best_params)\n",
    "if(DT_recempling):\n",
    "    DT_hyper_model.fit_with_resampling(X_train, y_train)\n",
    "else:\n",
    "    DT_hyper_model.fit(X_train, y_train)\n",
    "\n",
    "y_pred_hyper = DT_hyper_model.predict(X_test)\n",
    "\n",
    "Metrics(y_pred_hyper, y_test).f1_score()"
   ]
  },
  {
   "cell_type": "markdown",
   "metadata": {},
   "source": [
    "### CatBoost Classifier with Grid Search"
   ]
  },
  {
   "cell_type": "code",
   "execution_count": null,
   "metadata": {},
   "outputs": [],
   "source": [
    "CatBoost_gs = CatBoostModel(\"CatBoostModel with grid search\")\n",
    "cb_best_params, cb_resempling = CatBoost_gs.gs_parameter_tune(X, y, grid_search_parameters['CatBoostClassifier'], max_search=-1)"
   ]
  },
  {
   "cell_type": "code",
   "execution_count": 17,
   "metadata": {},
   "outputs": [
    {
     "name": "stdout",
     "output_type": "stream",
     "text": [
      "0:\tlearn: 0.6847073\ttotal: 2.15ms\tremaining: 320ms\n",
      "1:\tlearn: 0.6792827\ttotal: 3.89ms\tremaining: 288ms\n",
      "2:\tlearn: 0.6717061\ttotal: 5.75ms\tremaining: 282ms\n",
      "3:\tlearn: 0.6666778\ttotal: 7.43ms\tremaining: 271ms\n",
      "4:\tlearn: 0.6617661\ttotal: 8.98ms\tremaining: 261ms\n",
      "5:\tlearn: 0.6565347\ttotal: 10.4ms\tremaining: 249ms\n",
      "6:\tlearn: 0.6466224\ttotal: 11.9ms\tremaining: 243ms\n",
      "7:\tlearn: 0.6366963\ttotal: 13.4ms\tremaining: 238ms\n",
      "8:\tlearn: 0.6321884\ttotal: 14.9ms\tremaining: 233ms\n",
      "9:\tlearn: 0.6285178\ttotal: 16.3ms\tremaining: 228ms\n",
      "10:\tlearn: 0.6202254\ttotal: 17.8ms\tremaining: 225ms\n",
      "11:\tlearn: 0.6135358\ttotal: 19.3ms\tremaining: 222ms\n",
      "12:\tlearn: 0.6093813\ttotal: 20.8ms\tremaining: 219ms\n",
      "13:\tlearn: 0.6054479\ttotal: 22.2ms\tremaining: 216ms\n",
      "14:\tlearn: 0.6015785\ttotal: 23.7ms\tremaining: 213ms\n",
      "15:\tlearn: 0.5977211\ttotal: 25.2ms\tremaining: 211ms\n",
      "16:\tlearn: 0.5940839\ttotal: 26.7ms\tremaining: 209ms\n",
      "17:\tlearn: 0.5874969\ttotal: 28.2ms\tremaining: 207ms\n",
      "18:\tlearn: 0.5842962\ttotal: 29.7ms\tremaining: 205ms\n",
      "19:\tlearn: 0.5809552\ttotal: 31.4ms\tremaining: 204ms\n",
      "20:\tlearn: 0.5774289\ttotal: 33.3ms\tremaining: 205ms\n",
      "21:\tlearn: 0.5732774\ttotal: 35.2ms\tremaining: 205ms\n",
      "22:\tlearn: 0.5680002\ttotal: 36.9ms\tremaining: 204ms\n",
      "23:\tlearn: 0.5650164\ttotal: 38.6ms\tremaining: 202ms\n",
      "24:\tlearn: 0.5618443\ttotal: 40.1ms\tremaining: 200ms\n",
      "25:\tlearn: 0.5574911\ttotal: 41.6ms\tremaining: 198ms\n",
      "26:\tlearn: 0.5546882\ttotal: 43ms\tremaining: 196ms\n",
      "27:\tlearn: 0.5518722\ttotal: 44.4ms\tremaining: 193ms\n",
      "28:\tlearn: 0.5469087\ttotal: 46ms\tremaining: 192ms\n",
      "29:\tlearn: 0.5422226\ttotal: 47.5ms\tremaining: 190ms\n",
      "30:\tlearn: 0.5398209\ttotal: 49ms\tremaining: 188ms\n",
      "31:\tlearn: 0.5373111\ttotal: 50.5ms\tremaining: 186ms\n",
      "32:\tlearn: 0.5347148\ttotal: 52.1ms\tremaining: 185ms\n",
      "33:\tlearn: 0.5304980\ttotal: 53.6ms\tremaining: 183ms\n",
      "34:\tlearn: 0.5252840\ttotal: 55.2ms\tremaining: 181ms\n",
      "35:\tlearn: 0.5220362\ttotal: 56.8ms\tremaining: 180ms\n",
      "36:\tlearn: 0.5197093\ttotal: 58.2ms\tremaining: 178ms\n",
      "37:\tlearn: 0.5174327\ttotal: 59.6ms\tremaining: 176ms\n",
      "38:\tlearn: 0.5151325\ttotal: 61.2ms\tremaining: 174ms\n",
      "39:\tlearn: 0.5101002\ttotal: 62.7ms\tremaining: 172ms\n",
      "40:\tlearn: 0.5068504\ttotal: 64.2ms\tremaining: 171ms\n",
      "41:\tlearn: 0.5046999\ttotal: 65.8ms\tremaining: 169ms\n",
      "42:\tlearn: 0.5013702\ttotal: 67.3ms\tremaining: 167ms\n",
      "43:\tlearn: 0.4971957\ttotal: 68.8ms\tremaining: 166ms\n",
      "44:\tlearn: 0.4949795\ttotal: 70.3ms\tremaining: 164ms\n",
      "45:\tlearn: 0.4912181\ttotal: 71.9ms\tremaining: 163ms\n",
      "46:\tlearn: 0.4892768\ttotal: 73.4ms\tremaining: 161ms\n",
      "47:\tlearn: 0.4874951\ttotal: 74.8ms\tremaining: 159ms\n",
      "48:\tlearn: 0.4856955\ttotal: 76.3ms\tremaining: 157ms\n",
      "49:\tlearn: 0.4839429\ttotal: 77.8ms\tremaining: 156ms\n",
      "50:\tlearn: 0.4824434\ttotal: 79.2ms\tremaining: 154ms\n",
      "51:\tlearn: 0.4809753\ttotal: 80.6ms\tremaining: 152ms\n",
      "52:\tlearn: 0.4793964\ttotal: 82ms\tremaining: 150ms\n",
      "53:\tlearn: 0.4765947\ttotal: 83.6ms\tremaining: 149ms\n",
      "54:\tlearn: 0.4749411\ttotal: 85.1ms\tremaining: 147ms\n",
      "55:\tlearn: 0.4735851\ttotal: 86.6ms\tremaining: 145ms\n",
      "56:\tlearn: 0.4698199\ttotal: 88.2ms\tremaining: 144ms\n",
      "57:\tlearn: 0.4681725\ttotal: 89.7ms\tremaining: 142ms\n",
      "58:\tlearn: 0.4667418\ttotal: 91.3ms\tremaining: 141ms\n",
      "59:\tlearn: 0.4641894\ttotal: 92.8ms\tremaining: 139ms\n",
      "60:\tlearn: 0.4628345\ttotal: 94.2ms\tremaining: 137ms\n",
      "61:\tlearn: 0.4594846\ttotal: 95.7ms\tremaining: 136ms\n",
      "62:\tlearn: 0.4574643\ttotal: 97.3ms\tremaining: 134ms\n",
      "63:\tlearn: 0.4560905\ttotal: 98.8ms\tremaining: 133ms\n",
      "64:\tlearn: 0.4537818\ttotal: 100ms\tremaining: 131ms\n",
      "65:\tlearn: 0.4513813\ttotal: 102ms\tremaining: 130ms\n",
      "66:\tlearn: 0.4481441\ttotal: 104ms\tremaining: 128ms\n",
      "67:\tlearn: 0.4468696\ttotal: 105ms\tremaining: 127ms\n",
      "68:\tlearn: 0.4457005\ttotal: 107ms\tremaining: 125ms\n",
      "69:\tlearn: 0.4436460\ttotal: 108ms\tremaining: 124ms\n",
      "70:\tlearn: 0.4418786\ttotal: 110ms\tremaining: 122ms\n",
      "71:\tlearn: 0.4406252\ttotal: 111ms\tremaining: 121ms\n",
      "72:\tlearn: 0.4395868\ttotal: 113ms\tremaining: 119ms\n",
      "73:\tlearn: 0.4386358\ttotal: 114ms\tremaining: 117ms\n",
      "74:\tlearn: 0.4364726\ttotal: 116ms\tremaining: 116ms\n",
      "75:\tlearn: 0.4354408\ttotal: 117ms\tremaining: 114ms\n",
      "76:\tlearn: 0.4336713\ttotal: 119ms\tremaining: 113ms\n",
      "77:\tlearn: 0.4323540\ttotal: 120ms\tremaining: 111ms\n",
      "78:\tlearn: 0.4294549\ttotal: 122ms\tremaining: 110ms\n",
      "79:\tlearn: 0.4285727\ttotal: 124ms\tremaining: 108ms\n",
      "80:\tlearn: 0.4277112\ttotal: 125ms\tremaining: 106ms\n",
      "81:\tlearn: 0.4266434\ttotal: 126ms\tremaining: 105ms\n",
      "82:\tlearn: 0.4257806\ttotal: 128ms\tremaining: 103ms\n",
      "83:\tlearn: 0.4248433\ttotal: 130ms\tremaining: 102ms\n",
      "84:\tlearn: 0.4228007\ttotal: 131ms\tremaining: 100ms\n",
      "85:\tlearn: 0.4219720\ttotal: 132ms\tremaining: 98.6ms\n",
      "86:\tlearn: 0.4211976\ttotal: 134ms\tremaining: 97ms\n",
      "87:\tlearn: 0.4204953\ttotal: 135ms\tremaining: 95.3ms\n",
      "88:\tlearn: 0.4177971\ttotal: 137ms\tremaining: 93.8ms\n",
      "89:\tlearn: 0.4170122\ttotal: 138ms\tremaining: 92.3ms\n",
      "90:\tlearn: 0.4147215\ttotal: 140ms\tremaining: 90.8ms\n",
      "91:\tlearn: 0.4138806\ttotal: 142ms\tremaining: 89.3ms\n",
      "92:\tlearn: 0.4132216\ttotal: 143ms\tremaining: 87.6ms\n",
      "93:\tlearn: 0.4125114\ttotal: 144ms\tremaining: 86ms\n",
      "94:\tlearn: 0.4118420\ttotal: 146ms\tremaining: 84.5ms\n",
      "95:\tlearn: 0.4110881\ttotal: 147ms\tremaining: 82.8ms\n",
      "96:\tlearn: 0.4103992\ttotal: 149ms\tremaining: 81.2ms\n",
      "97:\tlearn: 0.4094625\ttotal: 150ms\tremaining: 79.7ms\n",
      "98:\tlearn: 0.4081287\ttotal: 152ms\tremaining: 78.2ms\n",
      "99:\tlearn: 0.4073848\ttotal: 153ms\tremaining: 76.6ms\n",
      "100:\tlearn: 0.4042014\ttotal: 155ms\tremaining: 75.3ms\n",
      "101:\tlearn: 0.4018153\ttotal: 157ms\tremaining: 73.8ms\n",
      "102:\tlearn: 0.3998838\ttotal: 158ms\tremaining: 72.2ms\n",
      "103:\tlearn: 0.3992495\ttotal: 160ms\tremaining: 70.7ms\n",
      "104:\tlearn: 0.3969723\ttotal: 161ms\tremaining: 69.1ms\n",
      "105:\tlearn: 0.3952484\ttotal: 163ms\tremaining: 67.6ms\n",
      "106:\tlearn: 0.3935790\ttotal: 164ms\tremaining: 66ms\n",
      "107:\tlearn: 0.3930297\ttotal: 166ms\tremaining: 64.4ms\n",
      "108:\tlearn: 0.3922898\ttotal: 167ms\tremaining: 62.9ms\n",
      "109:\tlearn: 0.3917657\ttotal: 169ms\tremaining: 61.4ms\n",
      "110:\tlearn: 0.3911478\ttotal: 170ms\tremaining: 59.8ms\n",
      "111:\tlearn: 0.3904757\ttotal: 172ms\tremaining: 58.3ms\n",
      "112:\tlearn: 0.3899204\ttotal: 173ms\tremaining: 56.7ms\n",
      "113:\tlearn: 0.3893433\ttotal: 175ms\tremaining: 55.1ms\n",
      "114:\tlearn: 0.3888296\ttotal: 176ms\tremaining: 53.6ms\n",
      "115:\tlearn: 0.3884182\ttotal: 178ms\tremaining: 52ms\n",
      "116:\tlearn: 0.3878977\ttotal: 179ms\tremaining: 50.5ms\n",
      "117:\tlearn: 0.3874449\ttotal: 180ms\tremaining: 48.9ms\n",
      "118:\tlearn: 0.3869535\ttotal: 182ms\tremaining: 47.4ms\n",
      "119:\tlearn: 0.3865062\ttotal: 183ms\tremaining: 45.8ms\n",
      "120:\tlearn: 0.3860148\ttotal: 185ms\tremaining: 44.2ms\n",
      "121:\tlearn: 0.3844693\ttotal: 186ms\tremaining: 42.7ms\n",
      "122:\tlearn: 0.3839875\ttotal: 188ms\tremaining: 41.2ms\n",
      "123:\tlearn: 0.3825226\ttotal: 189ms\tremaining: 39.7ms\n",
      "124:\tlearn: 0.3820879\ttotal: 191ms\tremaining: 38.1ms\n",
      "125:\tlearn: 0.3804786\ttotal: 192ms\tremaining: 36.6ms\n",
      "126:\tlearn: 0.3800515\ttotal: 194ms\tremaining: 35.1ms\n",
      "127:\tlearn: 0.3796827\ttotal: 195ms\tremaining: 33.6ms\n",
      "128:\tlearn: 0.3792877\ttotal: 197ms\tremaining: 32ms\n",
      "129:\tlearn: 0.3788403\ttotal: 198ms\tremaining: 30.5ms\n",
      "130:\tlearn: 0.3775144\ttotal: 200ms\tremaining: 29ms\n",
      "131:\tlearn: 0.3767775\ttotal: 202ms\tremaining: 27.5ms\n",
      "132:\tlearn: 0.3763147\ttotal: 203ms\tremaining: 26ms\n",
      "133:\tlearn: 0.3757506\ttotal: 205ms\tremaining: 24.4ms\n",
      "134:\tlearn: 0.3754144\ttotal: 206ms\tremaining: 22.9ms\n",
      "135:\tlearn: 0.3749793\ttotal: 208ms\tremaining: 21.4ms\n",
      "136:\tlearn: 0.3746157\ttotal: 209ms\tremaining: 19.8ms\n",
      "137:\tlearn: 0.3742167\ttotal: 211ms\tremaining: 18.3ms\n",
      "138:\tlearn: 0.3737821\ttotal: 212ms\tremaining: 16.8ms\n",
      "139:\tlearn: 0.3733853\ttotal: 214ms\tremaining: 15.3ms\n",
      "140:\tlearn: 0.3729715\ttotal: 215ms\tremaining: 13.7ms\n",
      "141:\tlearn: 0.3710726\ttotal: 217ms\tremaining: 12.2ms\n",
      "142:\tlearn: 0.3707577\ttotal: 218ms\tremaining: 10.7ms\n",
      "143:\tlearn: 0.3703378\ttotal: 220ms\tremaining: 9.17ms\n",
      "144:\tlearn: 0.3700304\ttotal: 222ms\tremaining: 7.64ms\n",
      "145:\tlearn: 0.3696918\ttotal: 223ms\tremaining: 6.11ms\n",
      "146:\tlearn: 0.3693155\ttotal: 225ms\tremaining: 4.58ms\n",
      "147:\tlearn: 0.3689806\ttotal: 226ms\tremaining: 3.05ms\n",
      "148:\tlearn: 0.3673834\ttotal: 227ms\tremaining: 1.53ms\n",
      "149:\tlearn: 0.3663555\ttotal: 229ms\tremaining: 0us\n"
     ]
    },
    {
     "data": {
      "text/plain": [
       "0.751683778495237"
      ]
     },
     "execution_count": 17,
     "metadata": {},
     "output_type": "execute_result"
    }
   ],
   "source": [
    "cb_hyper_model = CatBoostModel(\"CatBoostModel with hyper parameters\")\n",
    "cb_hyper_model.hyper_parameter(cb_best_params)\n",
    "if(cb_resempling):\n",
    "    cb_hyper_model.fit_with_resampling(X_train, y_train)\n",
    "else:\n",
    "    cb_hyper_model.fit(X_train, y_train)\n",
    "\n",
    "y_pred_hyper = cb_hyper_model.predict(X_test)\n",
    "\n",
    "Metrics(y_pred_hyper, y_test).f1_score()"
   ]
  }
 ],
 "metadata": {
  "kernelspec": {
   "display_name": "ml-project-env",
   "language": "python",
   "name": "python3"
  },
  "language_info": {
   "codemirror_mode": {
    "name": "ipython",
    "version": 3
   },
   "file_extension": ".py",
   "mimetype": "text/x-python",
   "name": "python",
   "nbconvert_exporter": "python",
   "pygments_lexer": "ipython3",
   "version": "3.11.7"
  }
 },
 "nbformat": 4,
 "nbformat_minor": 2
}
