{
 "cells": [
  {
   "cell_type": "code",
   "execution_count": null,
   "metadata": {},
   "outputs": [],
   "source": [
    "from models.decision_tree import DecisionTreeModel\n",
    "from models.adaBoost import AdaBoostModel\n",
    "from models.xg_boost import XGBoostModel\n",
    "from models.gradient_boosting import GradientBoostingModel\n",
    "from models.random_forest import RandomForestModel\n",
    "from models.cat_boost import CatBoostModel\n",
    "from sklearn.model_selection import train_test_split, cross_val_score\n",
    "from sklearn.metrics import f1_score, roc_auc_score\n",
    "from metrics import cross_validate_with_resampling, Metrics\n",
    "from imblearn.combine import SMOTEENN\n",
    "from imblearn.over_sampling import RandomOverSampler, SMOTE\n",
    "import pandas as pd\n",
    "import numpy as np"
   ]
  },
  {
   "cell_type": "markdown",
   "metadata": {},
   "source": [
    "## Reading Data and Setting up Grid search parameters"
   ]
  },
  {
   "cell_type": "code",
   "execution_count": null,
   "metadata": {},
   "outputs": [],
   "source": [
    "data = pd.read_csv('data/Telco-Customer-Churn-encoded-data-FE-Features-Selected.csv')\n",
    "label = pd.read_csv('data/Telco-Customer-Churn-encoded-label.csv')"
   ]
  },
  {
   "cell_type": "code",
   "execution_count": null,
   "metadata": {},
   "outputs": [],
   "source": [
    "%load_ext autoreload\n",
    "%autoreload 2"
   ]
  },
  {
   "cell_type": "code",
   "execution_count": null,
   "metadata": {},
   "outputs": [],
   "source": [
    "data.head()"
   ]
  },
  {
   "cell_type": "code",
   "execution_count": null,
   "metadata": {},
   "outputs": [],
   "source": [
    "label[:5]"
   ]
  },
  {
   "cell_type": "code",
   "execution_count": null,
   "metadata": {},
   "outputs": [],
   "source": [
    "X_train, X_test, y_train, y_test = train_test_split(X, y, test_size=0.2, random_state=42)"
   ]
  },
  {
   "cell_type": "markdown",
   "metadata": {},
   "source": [
    "### Decision tree Grid search"
   ]
  },
  {
   "cell_type": "code",
   "execution_count": null,
   "metadata": {},
   "outputs": [],
   "source": [
    "DecisionTreeModel_gs = DecisionTreeModel(\"DecisionTreeModel with grid search\")\n",
    "DT_best_params, DT_recempling = DecisionTreeModel_gs.gs_parameter_tune(X, y)\n"
   ]
  },
  {
   "cell_type": "code",
   "execution_count": null,
   "metadata": {},
   "outputs": [],
   "source": [
    "\n",
    "DT_hyper_model = DecisionTreeModel(\"DecisionTreeModel with hyper parameters\")\n",
    "DT_hyper_model.hyper_parameter(DT_best_params)\n",
    "if(DT_recempling):\n",
    "    DT_hyper_model.fit_with_resampling(X_train, y_train)\n",
    "else:\n",
    "    DT_hyper_model.fit(X_train, y_train)\n",
    "\n",
    "y_pred_hyper = DT_hyper_model.predict(X_test)\n",
    "\n",
    "Metrics(y_test, y_pred_hyper).f1_score()"
   ]
  },
  {
   "cell_type": "markdown",
   "metadata": {},
   "source": [
    "### XGBoost with Grid Search"
   ]
  },
  {
   "cell_type": "code",
   "execution_count": null,
   "metadata": {},
   "outputs": [],
   "source": [
    "xgb_gs = XGBoostModel(\"XGBoostModel with grid search\")\n",
    "xgb_best_params, xgb_resempling = xgb_gs.gs_parameter_tune(X, y)"
   ]
  },
  {
   "cell_type": "code",
   "execution_count": null,
   "metadata": {},
   "outputs": [],
   "source": [
    "xgb_hyper_model = XGBoostModel(\"XGBoostModel with hyper parameters\")\n",
    "xgb_hyper_model.hyper_parameter(xgb_best_params)\n",
    "if(xgb_resempling):\n",
    "    xgb_hyper_model.fit_with_resampling(X_train, y_train)\n",
    "else:\n",
    "    xgb_hyper_model.fit(X_train, y_train)\n",
    "\n",
    "y_pred_hyper = xgb_hyper_model.predict(X_test)\n",
    "\n",
    "Metrics(y_test, y_pred_hyper).f1_score()"
   ]
  },
  {
   "cell_type": "markdown",
   "metadata": {},
   "source": [
    "### AdaBoost with Grid Search"
   ]
  },
  {
   "cell_type": "code",
   "execution_count": null,
   "metadata": {},
   "outputs": [],
   "source": [
    "AdaBoostModel_gs = AdaBoostModel(\"AdaBoostModel with grid search\")\n",
    "ab_best_params, ab_resempling = AdaBoostModel_gs.gs_parameter_tune(X, y)"
   ]
  },
  {
   "cell_type": "code",
   "execution_count": null,
   "metadata": {},
   "outputs": [],
   "source": [
    "ab_hyper_model = AdaBoostModel(\"AdaBoostModel with hyper parameters\")\n",
    "ab_hyper_model.hyper_parameter(ab_best_params)\n",
    "if(ab_resempling):\n",
    "    ab_hyper_model.fit_with_resampling(X_train, y_train)\n",
    "else:\n",
    "    ab_hyper_model.fit(X_train, y_train)\n",
    "\n",
    "y_pred_hyper = ab_hyper_model.predict(X_test)\n",
    "\n",
    "Metrics(y_test, y_pred_hyper).f1_score()"
   ]
  },
  {
   "cell_type": "markdown",
   "metadata": {},
   "source": [
    "### Gradient Boosting with Grid Search"
   ]
  },
  {
   "cell_type": "code",
   "execution_count": null,
   "metadata": {},
   "outputs": [],
   "source": [
    "GradientBoostingModel_gs = GradientBoostingModel(\"GradientBoostingModel with grid search\")\n",
    "gb_best_params, gb_resempling = GradientBoostingModel_gs.gs_parameter_tune(X, y)"
   ]
  },
  {
   "cell_type": "code",
   "execution_count": null,
   "metadata": {},
   "outputs": [],
   "source": [
    "gb_hyper_model = GradientBoostingModel(\"GradientBoostingModel with hyper parameters\")\n",
    "gb_hyper_model.hyper_parameter(gb_best_params)\n",
    "if(gb_resempling):\n",
    "    gb_hyper_model.fit_with_resampling(X_train, y_train)\n",
    "else:\n",
    "    gb_hyper_model.fit(X_train, y_train)\n",
    "\n",
    "y_pred_hyper = gb_hyper_model.predict(X_test)\n",
    "\n",
    "Metrics(y_test, y_pred_hyper).f1_score()"
   ]
  },
  {
   "cell_type": "code",
   "execution_count": null,
   "metadata": {},
   "outputs": [],
   "source": [
    "gb_hyper_model.save('gb_hyper_model.pkl')"
   ]
  },
  {
   "cell_type": "code",
   "execution_count": null,
   "metadata": {},
   "outputs": [],
   "source": [
    "load_model = GradientBoostingModel()\n",
    "load_model.load('gb_hyper_model.pkl')"
   ]
  },
  {
   "cell_type": "code",
   "execution_count": null,
   "metadata": {},
   "outputs": [],
   "source": [
    "y_pred_load = load_model.predict(X_test)\n",
    "Metrics(y_pred_load, y_test).f1_score()\n"
   ]
  },
  {
   "cell_type": "markdown",
   "metadata": {},
   "source": [
    "### Random Forest Classifier with Grid Search"
   ]
  },
  {
   "cell_type": "code",
   "execution_count": null,
   "metadata": {},
   "outputs": [],
   "source": [
    "RandomForestModel_gs = RandomForestModel(\"RandomForestModel with grid search\")\n",
    "rf_best_params, rf_resempling = RandomForestModel_gs.gs_parameter_tune(X, y)"
   ]
  },
  {
   "cell_type": "code",
   "execution_count": null,
   "metadata": {},
   "outputs": [],
   "source": [
    "rf_hyper_model = RandomForestModel(\"RandomForestModel with hyper parameters\")\n",
    "rf_hyper_model.hyper_parameter(rf_best_params)\n",
    "if(rf_resempling):\n",
    "    rf_hyper_model.fit_with_resampling(X_train, y_train)\n",
    "else:\n",
    "    rf_hyper_model.fit(X_train, y_train)\n",
    "\n",
    "y_pred_hyper = rf_hyper_model.predict(X_test)\n",
    "\n",
    "Metrics(y_test, y_pred_hyper).f1_score()"
   ]
  },
  {
   "cell_type": "markdown",
   "metadata": {},
   "source": [
    "### CatBoost Classifier with Grid Search"
   ]
  },
  {
   "cell_type": "code",
   "execution_count": null,
   "metadata": {},
   "outputs": [],
   "source": [
    "CatBoost_gs = CatBoostModel(\"CatBoostModel with grid search\")\n",
    "cb_best_params, cb_resempling = CatBoost_gs.gs_parameter_tune(X, y)"
   ]
  },
  {
   "cell_type": "code",
   "execution_count": null,
   "metadata": {},
   "outputs": [],
   "source": [
    "cb_hyper_model = CatBoostModel(\"CatBoostModel with hyper parameters\")\n",
    "cb_hyper_model.hyper_parameter(cb_best_params)\n",
    "if(cb_resempling):\n",
    "    cb_hyper_model.fit_with_resampling(X_train, y_train)\n",
    "else:\n",
    "    cb_hyper_model.fit(X_train, y_train)\n",
    "\n",
    "y_pred_hyper = cb_hyper_model.predict(X_test)\n",
    "\n",
    "Metrics(y_test, y_pred_hyper).f1_score()"
   ]
  }
 ],
 "metadata": {
  "kernelspec": {
   "display_name": "ml-project-env",
   "language": "python",
   "name": "python3"
  },
  "language_info": {
   "codemirror_mode": {
    "name": "ipython",
    "version": 3
   },
   "file_extension": ".py",
   "mimetype": "text/x-python",
   "name": "python",
   "nbconvert_exporter": "python",
   "pygments_lexer": "ipython3",
   "version": "3.11.7"
  }
 },
 "nbformat": 4,
 "nbformat_minor": 2
}
